{
  "nbformat": 4,
  "nbformat_minor": 0,
  "metadata": {
    "colab": {
      "provenance": [],
      "authorship_tag": "ABX9TyPTAcyytKwVdgsKMVTwz6MS",
      "include_colab_link": true
    },
    "kernelspec": {
      "name": "python3",
      "display_name": "Python 3"
    },
    "language_info": {
      "name": "python"
    }
  },
  "cells": [
    {
      "cell_type": "markdown",
      "metadata": {
        "id": "view-in-github",
        "colab_type": "text"
      },
      "source": [
        "<a href=\"https://colab.research.google.com/github/ronakraj00/lab_ml/blob/main/decision_tree_scratch.ipynb\" target=\"_parent\"><img src=\"https://colab.research.google.com/assets/colab-badge.svg\" alt=\"Open In Colab\"/></a>"
      ]
    },
    {
      "cell_type": "code",
      "source": [
        "import numpy as np\n",
        "from collections import Counter\n",
        "import pandas as pd\n",
        "\n",
        "def entropy(y):\n",
        "    counts = Counter(y)\n",
        "    total = len(y)\n",
        "    return -sum((count / total) * np.log2(count / total) for count in counts.values())\n",
        "\n",
        "\n",
        "def split_data(X, y, feature_index, threshold):\n",
        "    left_mask = X[:, feature_index] <= threshold\n",
        "    right_mask = X[:, feature_index] > threshold\n",
        "    return X[left_mask], y[left_mask], X[right_mask], y[right_mask]\n",
        "\n",
        "\n",
        "def information_gain(X, y, feature_index, threshold):\n",
        "    parent_entropy = entropy(y)\n",
        "    left_X, left_y, right_X, right_y = split_data(X, y, feature_index, threshold)\n",
        "    if len(left_y) == 0 or len(right_y) == 0:\n",
        "        return 0\n",
        "    n = len(y)\n",
        "    left_weight = len(left_y) / n\n",
        "    right_weight = len(right_y) / n\n",
        "    child_entropy = left_weight * entropy(left_y) + right_weight * entropy(right_y)\n",
        "    return parent_entropy - child_entropy\n",
        "\n",
        "\n",
        "def best_split(X, y):\n",
        "    best_gain = 0\n",
        "    best_feature, best_threshold = None, None\n",
        "    for feature_index in range(X.shape[1]):\n",
        "        thresholds = np.unique(X[:, feature_index])\n",
        "        for threshold in thresholds:\n",
        "            gain = information_gain(X, y, feature_index, threshold)\n",
        "            if gain > best_gain:\n",
        "                best_gain, best_feature, best_threshold = gain, feature_index, threshold\n",
        "    return best_feature, best_threshold\n",
        "\n",
        "\n",
        "class TreeNode:\n",
        "    def __init__(self, feature=None, threshold=None, left=None, right=None, value=None):\n",
        "        self.feature = feature\n",
        "        self.threshold = threshold\n",
        "        self.left = left\n",
        "        self.right = right\n",
        "        self.value = value\n",
        "\n",
        "def build_tree(X, y, depth=0, max_depth=3):\n",
        "    if len(set(y)) == 1:\n",
        "        return TreeNode(value=y[0])\n",
        "    if depth == max_depth:\n",
        "        most_common_label = Counter(y).most_common(1)[0][0]\n",
        "        return TreeNode(value=most_common_label)\n",
        "\n",
        "    feature, threshold = best_split(X, y)\n",
        "    if feature is None:\n",
        "        return TreeNode(value=Counter(y).most_common(1)[0][0])\n",
        "\n",
        "    left_X, left_y, right_X, right_y = split_data(X, y, feature, threshold)\n",
        "    left_child = build_tree(left_X, left_y, depth + 1, max_depth)\n",
        "    right_child = build_tree(right_X, right_y, depth + 1, max_depth)\n",
        "\n",
        "    return TreeNode(feature=feature, threshold=threshold, left=left_child, right=right_child)\n",
        "\n",
        "def predict(tree, x):\n",
        "    if tree.value is not None:\n",
        "        return tree.value\n",
        "    if x[tree.feature] <= tree.threshold:\n",
        "        return predict(tree.left, x)\n",
        "    else:\n",
        "        return predict(tree.right, x)\n",
        "\n",
        "\n",
        "def predict_all(tree, X):\n",
        "    return [predict(tree, x) for x in X]\n",
        "\n",
        "data = {\n",
        "    'Outlook': ['Sunny', 'Sunny', 'Overcast', 'Rain', 'Rain', 'Rain', 'Overcast', 'Sunny', 'Sunny', 'Rain', 'Sunny', 'Overcast', 'Overcast', 'Rain'],\n",
        "    'Temperature': [85, 80, 83, 70, 68, 65, 64, 72, 69, 75, 75, 72, 81, 71],\n",
        "    'Humidity': [85, 90, 78, 96, 80, 70, 65, 95, 70, 80, 70, 90, 75, 91],\n",
        "    'Wind': [0, 1, 0, 0, 0, 1, 1, 0, 0, 0, 1, 1, 0, 1],\n",
        "    'PlayTennis': [0, 0, 1, 1, 1, 0, 1, 0, 1, 1, 1, 1, 1, 0]\n",
        "}\n",
        "df = pd.DataFrame(data)\n",
        "X = df[['Temperature', 'Humidity', 'Wind']].values\n",
        "y = df['PlayTennis'].values\n",
        "\n",
        "tree = build_tree(X, y, max_depth=3)\n",
        "\n",
        "predictions = predict_all(tree, X)\n",
        "print(\"Predictions:\", predictions)\n",
        "print(\"Actual Labels:\", list(y))\n"
      ],
      "metadata": {
        "id": "MHxGRPQDngYz",
        "colab": {
          "base_uri": "https://localhost:8080/"
        },
        "outputId": "f010a507-6b0a-4ac0-c0a9-345f8e99ff05"
      },
      "execution_count": 4,
      "outputs": [
        {
          "output_type": "stream",
          "name": "stdout",
          "text": [
            "Predictions: [0, 0, 1, 1, 1, 0, 1, 0, 1, 1, 1, 0, 1, 0]\n",
            "Actual Labels: [0, 0, 1, 1, 1, 0, 1, 0, 1, 1, 1, 1, 1, 0]\n"
          ]
        }
      ]
    }
  ]
}