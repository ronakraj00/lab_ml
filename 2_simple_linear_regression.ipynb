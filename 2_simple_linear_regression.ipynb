{
  "nbformat": 4,
  "nbformat_minor": 0,
  "metadata": {
    "colab": {
      "provenance": []
    },
    "kernelspec": {
      "name": "python3",
      "display_name": "Python 3"
    },
    "language_info": {
      "name": "python"
    }
  },
  "cells": [
    {
      "cell_type": "code",
      "source": [
        "import numpy as np\n",
        "import pandas as pd\n",
        "\n",
        "# Example data (Years of Experience vs Salary)\n",
        "data = {'YearsExperience': [1.1, 2.0, 3.2, 4.0, 5.0, 6.8, 7.4, 8.5],\n",
        "        'Salary': [39343, 46205, 56957, 61111, 67938, 91738, 98273, 113812]}\n",
        "\n",
        "# Convert to DataFrame\n",
        "df = pd.DataFrame(data)\n",
        "\n",
        "# Step 1: Calculate the mean of YearsExperience (X) and Salary (y)\n",
        "mean_experience = np.mean(df['YearsExperience'])\n",
        "mean_salary = np.mean(df['Salary'])\n",
        "\n",
        "# Step 2: Calculate the deviations from the mean for both X and y\n",
        "experience_deviation = df['YearsExperience'] - mean_experience\n",
        "salary_deviation = df['Salary'] - mean_salary\n",
        "\n",
        "# Step 3: Compute the product of the deviations and the sum of squared deviations of X\n",
        "product_of_devs = experience_deviation * salary_deviation\n",
        "sum_product_of_devs = np.sum(product_of_devs)\n",
        "\n",
        "squared_deviation_experience = experience_deviation ** 2\n",
        "sum_squared_deviation_experience = np.sum(squared_deviation_experience)\n",
        "\n",
        "# Step 4: Calculate the slope (m) and intercept (b) of the regression line\n",
        "slope = sum_product_of_devs / sum_squared_deviation_experience\n",
        "intercept = mean_salary - slope * mean_experience\n",
        "\n",
        "# Step 5: Make predictions for Salary based on the regression line equation\n",
        "predicted_salary = slope * df['YearsExperience'] + intercept\n",
        "\n",
        "# Step 6: Calculate the Mean Squared Error (MSE) to evaluate the model\n",
        "mean_squared_error = np.mean((df['Salary'] - predicted_salary) ** 2)\n",
        "\n",
        "# Output the results\n",
        "print(f\"Slope (m): {slope}, Intercept (b): {intercept}\")\n",
        "print(f\"Mean Squared Error: {mean_squared_error}\")\n"
      ],
      "metadata": {
        "id": "lkLznwX-aIlY",
        "outputId": "b1d5d5a8-1d7a-4aa2-d218-82a9ad2aa122",
        "colab": {
          "base_uri": "https://localhost:8080/"
        }
      },
      "execution_count": null,
      "outputs": [
        {
          "output_type": "stream",
          "name": "stdout",
          "text": [
            "Slope (m): 9908.202235772356, Intercept (b): 24858.16438008131\n",
            "Mean Squared Error: 11399011.10784425\n"
          ]
        }
      ]
    }
  ]
}