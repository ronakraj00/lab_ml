{
  "nbformat": 4,
  "nbformat_minor": 0,
  "metadata": {
    "colab": {
      "provenance": []
    },
    "kernelspec": {
      "name": "python3",
      "display_name": "Python 3"
    },
    "language_info": {
      "name": "python"
    }
  },
  "cells": [
    {
      "cell_type": "code",
      "source": [
        "import numpy as np\n",
        "\n",
        "def initialize_centroids(X, k):\n",
        "    # Randomly choose k data points as initial centroids\n",
        "    np.random.seed(42)\n",
        "    indices = np.random.choice(X.shape[0], k, replace=False)\n",
        "    centroids = X[indices]\n",
        "    return centroids\n",
        "\n",
        "def assign_clusters(X, centroids):\n",
        "    # Assign each data point to the closest centroid\n",
        "    distances = np.linalg.norm(X[:, np.newaxis] - centroids, axis=2)\n",
        "    cluster_labels = np.argmin(distances, axis=1)\n",
        "    return cluster_labels\n",
        "\n",
        "def update_centroids(X, labels, k):\n",
        "    # Recompute centroids as the mean of all points in each cluster\n",
        "    centroids = np.array([X[labels == i].mean(axis=0) for i in range(k)])\n",
        "    return centroids\n",
        "\n",
        "def kmeans(X, k, max_iters=100):\n",
        "    centroids = initialize_centroids(X, k)\n",
        "\n",
        "    for _ in range(max_iters):\n",
        "        # Step 1: Assign clusters\n",
        "        labels = assign_clusters(X, centroids)\n",
        "\n",
        "        # Step 2: Update centroids\n",
        "        new_centroids = update_centroids(X, labels, k)\n",
        "\n",
        "        # Stop if centroids do not change\n",
        "        if np.all(centroids == new_centroids):\n",
        "            break\n",
        "\n",
        "        centroids = new_centroids\n",
        "\n",
        "    return labels, centroids\n",
        "\n",
        "# Example usage:\n",
        "X = np.array([[1, 2], [1, 4], [1, 0],\n",
        "              [4, 2], [4, 4], [4, 0]])\n",
        "\n",
        "k = 2\n",
        "labels, centroids = kmeans(X, k)\n",
        "print(f\"Cluster Labels: {labels}\")\n",
        "print(f\"Centroids: {centroids}\")\n"
      ],
      "metadata": {
        "id": "HGnYEd1QX2Ks",
        "outputId": "c8a16543-7a0b-462c-cf0d-c84d2025fa6f",
        "colab": {
          "base_uri": "https://localhost:8080/"
        }
      },
      "execution_count": null,
      "outputs": [
        {
          "output_type": "stream",
          "name": "stdout",
          "text": [
            "Cluster Labels: [0 1 0 0 1 0]\n",
            "Centroids: [[2.5 1. ]\n",
            " [2.5 4. ]]\n"
          ]
        }
      ]
    }
  ]
}