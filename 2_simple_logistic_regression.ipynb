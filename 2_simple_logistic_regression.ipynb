{
  "nbformat": 4,
  "nbformat_minor": 0,
  "metadata": {
    "colab": {
      "provenance": []
    },
    "kernelspec": {
      "name": "python3",
      "display_name": "Python 3"
    },
    "language_info": {
      "name": "python"
    }
  },
  "cells": [
    {
      "cell_type": "code",
      "source": [
        "import numpy as np\n",
        "import pandas as pd\n",
        "\n",
        "# Sigmoid function for logistic regression\n",
        "def sigmoid(z):\n",
        "    return 1 / (1 + np.exp(-z))\n",
        "\n",
        "# Example data (Hours studied vs Pass or Fail)\n",
        "data = {'HoursStudied': [1, 2, 3, 4, 5, 6, 7, 8],\n",
        "        'Pass': [0, 0, 0, 0, 1, 1, 1, 1]}\n",
        "\n",
        "# Convert to DataFrame\n",
        "df = pd.DataFrame(data)\n",
        "\n",
        "# Step 1: Create the X matrix (with intercept) and y vector\n",
        "X = np.c_[np.ones(df.shape[0]), df['HoursStudied']]  # Adding a column of ones for intercept\n",
        "y = df['Pass']\n",
        "\n",
        "# Step 2: Calculate the coefficients using the pseudo-inverse\n",
        "coefficients = np.linalg.pinv(X.T.dot(X)).dot(X.T).dot(y)\n",
        "\n",
        "# Step 3: Make predictions (probabilities) using the sigmoid function\n",
        "z = X.dot(coefficients)\n",
        "predicted_probabilities = sigmoid(z)\n",
        "\n",
        "# Step 4: Convert probabilities to binary predictions (0 or 1) using threshold 0.5\n",
        "predictions = (predicted_probabilities >= 0.5).astype(int)\n",
        "\n",
        "# Output the results\n",
        "print(f\"Coefficients: {coefficients}\")\n",
        "print(f\"Predicted Probabilities: {predicted_probabilities}\")\n",
        "print(f\"Predictions (Pass/Fail): {predictions}\")\n"
      ],
      "metadata": {
        "id": "OJj8wpdIarQ1",
        "outputId": "32db8a91-3b2f-4746-f1ea-9f91ebc79140",
        "colab": {
          "base_uri": "https://localhost:8080/"
        }
      },
      "execution_count": null,
      "outputs": [
        {
          "output_type": "stream",
          "name": "stdout",
          "text": [
            "Coefficients: [-0.35714286  0.19047619]\n",
            "Predicted Probabilities: [0.45842952 0.5059521  0.55336737 0.59983122 0.6445661  0.68691036\n",
            " 0.72635167 0.76254197]\n",
            "Predictions (Pass/Fail): [0 1 1 1 1 1 1 1]\n"
          ]
        }
      ]
    }
  ]
}