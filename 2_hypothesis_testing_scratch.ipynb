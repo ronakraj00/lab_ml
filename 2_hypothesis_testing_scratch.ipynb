{
  "nbformat": 4,
  "nbformat_minor": 0,
  "metadata": {
    "colab": {
      "provenance": []
    },
    "kernelspec": {
      "name": "python3",
      "display_name": "Python 3"
    },
    "language_info": {
      "name": "python"
    }
  },
  "cells": [
    {
      "cell_type": "markdown",
      "source": [
        "## z test"
      ],
      "metadata": {
        "id": "vXoPh7_7Wizp"
      }
    },
    {
      "cell_type": "code",
      "execution_count": null,
      "metadata": {
        "colab": {
          "base_uri": "https://localhost:8080/"
        },
        "id": "C1mUaKmfWbDr",
        "outputId": "f3e7f347-6151-42a7-f407-3554085d7c43"
      },
      "outputs": [
        {
          "output_type": "stream",
          "name": "stdout",
          "text": [
            "Z-Statistic: 0.35276684147527876\n",
            "P-Value: 0.7242632442784087\n",
            "Decision: Fail to reject the null hypothesis\n"
          ]
        }
      ],
      "source": [
        "import numpy as np\n",
        "from scipy import stats\n",
        "\n",
        "def z_test(sample_data, population_mean, population_std, alpha=0.05):\n",
        "    # Step 1: Calculate the sample mean\n",
        "    sample_mean = np.mean(sample_data)\n",
        "\n",
        "    # Step 2: Calculate the sample size\n",
        "    n = len(sample_data)\n",
        "\n",
        "    # Step 3: Compute the Z statistic\n",
        "    z = (sample_mean - population_mean) / (population_std / np.sqrt(n))\n",
        "\n",
        "    # Step 4: Calculate the p-value from the Z statistic\n",
        "    p_value = 2 * (1 - stats.norm.cdf(abs(z)))  # Two-tailed test\n",
        "\n",
        "    # Step 5: Compare p-value with alpha (significance level)\n",
        "    if p_value < alpha:\n",
        "        result = \"Reject the null hypothesis\"\n",
        "    else:\n",
        "        result = \"Fail to reject the null hypothesis\"\n",
        "\n",
        "    return z, p_value, result\n",
        "\n",
        "# Example usage:\n",
        "# Sample data, population mean, population standard deviation\n",
        "sample_data = [120, 130, 125, 135, 110, 140, 150]\n",
        "population_mean = 128\n",
        "population_std = 15\n",
        "\n",
        "z_stat, p_val, decision = z_test(sample_data, population_mean, population_std)\n",
        "print(f\"Z-Statistic: {z_stat}\")\n",
        "print(f\"P-Value: {p_val}\")\n",
        "print(f\"Decision: {decision}\")\n"
      ]
    },
    {
      "cell_type": "markdown",
      "source": [
        "## t test"
      ],
      "metadata": {
        "id": "Vt23gEmlXJHB"
      }
    },
    {
      "cell_type": "code",
      "source": [
        "import numpy as np\n",
        "from scipy import stats\n",
        "\n",
        "def t_test(sample_data, population_mean, alpha=0.05):\n",
        "    # Step 1: Calculate the sample mean and sample standard deviation\n",
        "    sample_mean = np.mean(sample_data)\n",
        "    sample_std = np.std(sample_data, ddof=1)  # Sample standard deviation (ddof=1 for unbiased estimator)\n",
        "\n",
        "    # Step 2: Calculate the sample size\n",
        "    n = len(sample_data)\n",
        "\n",
        "    # Step 3: Compute the T-statistic\n",
        "    t_stat = (sample_mean - population_mean) / (sample_std / np.sqrt(n))\n",
        "\n",
        "    # Step 4: Calculate the p-value using the T distribution\n",
        "    p_value = 2 * (1 - stats.t.cdf(np.abs(t_stat), df=n-1))  # Two-tailed test\n",
        "\n",
        "    # Step 5: Compare p-value with alpha (significance level)\n",
        "    if p_value < alpha:\n",
        "        result = \"Reject the null hypothesis\"\n",
        "    else:\n",
        "        result = \"Fail to reject the null hypothesis\"\n",
        "\n",
        "    return t_stat, p_value, result\n",
        "\n",
        "# Example usage:\n",
        "sample_data = [22, 25, 29, 30, 24, 20, 28]\n",
        "population_mean = 26\n",
        "\n",
        "t_stat, p_val, decision = t_test(sample_data, population_mean)\n",
        "print(f\"T-Statistic: {t_stat}\")\n",
        "print(f\"P-Value: {p_val}\")\n",
        "print(f\"Decision: {decision}\")\n"
      ],
      "metadata": {
        "colab": {
          "base_uri": "https://localhost:8080/"
        },
        "id": "9HvFG4ewWmVH",
        "outputId": "ce46537c-33ed-45cb-f552-f49199ba6fe6"
      },
      "execution_count": null,
      "outputs": [
        {
          "output_type": "stream",
          "name": "stdout",
          "text": [
            "T-Statistic: -0.40474995441293204\n",
            "P-Value: 0.6996958415192993\n",
            "Decision: Fail to reject the null hypothesis\n"
          ]
        }
      ]
    },
    {
      "cell_type": "markdown",
      "source": [
        "## chi square test"
      ],
      "metadata": {
        "id": "Rhoc8073XPPb"
      }
    },
    {
      "cell_type": "code",
      "source": [
        "import numpy as np\n",
        "from scipy import stats\n",
        "\n",
        "def chi_square_test(observed, expected, alpha=0.05):\n",
        "    # Step 1: Calculate the Chi-Square statistic\n",
        "    chi_square_stat = sum((obs - exp) ** 2 / exp for obs, exp in zip(observed, expected))\n",
        "\n",
        "    # Step 2: Degrees of freedom\n",
        "    df = len(observed) - 1\n",
        "\n",
        "    # Step 3: Calculate the p-value from the Chi-square distribution\n",
        "    p_value = 1 - stats.chi2.cdf(chi_square_stat, df)\n",
        "\n",
        "    # Step 4: Compare p-value with alpha (significance level)\n",
        "    if p_value < alpha:\n",
        "        result = \"Reject the null hypothesis\"\n",
        "    else:\n",
        "        result = \"Fail to reject the null hypothesis\"\n",
        "\n",
        "    return chi_square_stat, p_value, result\n",
        "\n",
        "# Example usage:\n",
        "observed = [50, 30, 20]\n",
        "expected = [40, 40, 20]\n",
        "\n",
        "chi_stat, p_val, decision = chi_square_test(observed, expected)\n",
        "print(f\"Chi-Square Statistic: {chi_stat}\")\n",
        "print(f\"P-Value: {p_val}\")\n",
        "print(f\"Decision: {decision}\")\n"
      ],
      "metadata": {
        "colab": {
          "base_uri": "https://localhost:8080/"
        },
        "id": "q2XGGh51XL6C",
        "outputId": "dd11030b-8c16-4c2a-f823-181654f9e64e"
      },
      "execution_count": null,
      "outputs": [
        {
          "output_type": "stream",
          "name": "stdout",
          "text": [
            "Chi-Square Statistic: 5.0\n",
            "P-Value: 0.08208499862389884\n",
            "Decision: Fail to reject the null hypothesis\n"
          ]
        }
      ]
    },
    {
      "cell_type": "markdown",
      "source": [
        "## Anova"
      ],
      "metadata": {
        "id": "0z4TfkPPXUlu"
      }
    },
    {
      "cell_type": "code",
      "source": [
        "import numpy as np\n",
        "\n",
        "def anova(*groups):\n",
        "    # Step 1: Calculate the overall mean (grand mean)\n",
        "    all_data = np.concatenate(groups)\n",
        "    grand_mean = np.mean(all_data)\n",
        "\n",
        "    # Step 2: Calculate the between-group sum of squares (SSB)\n",
        "    SSB = sum(len(group) * (np.mean(group) - grand_mean) ** 2 for group in groups)\n",
        "\n",
        "    # Step 3: Calculate the within-group sum of squares (SSW)\n",
        "    SSW = sum(np.sum((group - np.mean(group)) ** 2) for group in groups)\n",
        "\n",
        "    # Step 4: Degrees of freedom\n",
        "    df_between = len(groups) - 1\n",
        "    df_within = len(all_data) - len(groups)\n",
        "\n",
        "    # Step 5: Mean squares\n",
        "    MSB = SSB / df_between\n",
        "    MSW = SSW / df_within\n",
        "\n",
        "    # Step 6: F-statistic\n",
        "    F_stat = MSB / MSW\n",
        "\n",
        "    # Step 7: Calculate the p-value\n",
        "    p_value = 1 - stats.f.cdf(F_stat, df_between, df_within)\n",
        "\n",
        "    return F_stat, p_value\n",
        "\n",
        "# Example usage:\n",
        "group1 = [20, 21, 22, 23, 24]\n",
        "group2 = [30, 31, 32, 33, 34]\n",
        "group3 = [40, 41, 42, 43, 44]\n",
        "\n",
        "F_stat, p_val = anova(group1, group2, group3)\n",
        "print(f\"F-Statistic: {F_stat}\")\n",
        "print(f\"P-Value: {p_val}\")\n"
      ],
      "metadata": {
        "colab": {
          "base_uri": "https://localhost:8080/"
        },
        "id": "HxneHhdbXRyh",
        "outputId": "e1b10ae9-4fa5-430a-e620-51cff293bbb2"
      },
      "execution_count": null,
      "outputs": [
        {
          "output_type": "stream",
          "name": "stdout",
          "text": [
            "F-Statistic: 200.0\n",
            "P-Value: 6.105260741406937e-10\n"
          ]
        }
      ]
    }
  ]
}