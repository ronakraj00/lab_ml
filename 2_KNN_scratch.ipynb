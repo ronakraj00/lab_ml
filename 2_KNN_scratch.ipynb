{
  "nbformat": 4,
  "nbformat_minor": 0,
  "metadata": {
    "colab": {
      "provenance": []
    },
    "kernelspec": {
      "name": "python3",
      "display_name": "Python 3"
    },
    "language_info": {
      "name": "python"
    }
  },
  "cells": [
    {
      "cell_type": "code",
      "source": [
        "import numpy as np\n",
        "from collections import Counter\n",
        "\n",
        "def euclidean_distance(x1, x2):\n",
        "    return np.sqrt(np.sum((x1 - x2) ** 2))\n",
        "\n",
        "def knn(X_train, y_train, X_test, k=3):\n",
        "    predictions = []\n",
        "\n",
        "    for test_point in X_test:\n",
        "        # Step 1: Calculate distances between the test point and all training points\n",
        "        distances = [euclidean_distance(test_point, x_train) for x_train in X_train]\n",
        "\n",
        "        # Step 2: Get the labels of the k closest points\n",
        "        k_indices = np.argsort(distances)[:k]\n",
        "        k_nearest_labels = [y_train[i] for i in k_indices]\n",
        "\n",
        "        # Step 3: Perform majority voting\n",
        "        most_common_label = Counter(k_nearest_labels).most_common(1)[0][0]\n",
        "        predictions.append(most_common_label)\n",
        "\n",
        "    return predictions\n",
        "\n",
        "# Example usage:\n",
        "X_train = np.array([[1, 2], [1, 4], [1, 0], [4, 2], [4, 4], [4, 0]])\n",
        "y_train = np.array([0, 0, 0, 1, 1, 1])\n",
        "X_test = np.array([[2, 3], [3, 3]])\n",
        "\n",
        "k = 3\n",
        "predictions = knn(X_train, y_train, X_test, k)\n",
        "print(f\"Predictions: {predictions}\")\n"
      ],
      "metadata": {
        "id": "jhmSXDwtYByw",
        "outputId": "ed708b3d-d2bb-4d32-ad36-fa8d3da5508d",
        "colab": {
          "base_uri": "https://localhost:8080/"
        }
      },
      "execution_count": null,
      "outputs": [
        {
          "output_type": "stream",
          "name": "stdout",
          "text": [
            "Predictions: [0, 1]\n"
          ]
        }
      ]
    }
  ]
}