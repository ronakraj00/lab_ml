{
  "nbformat": 4,
  "nbformat_minor": 0,
  "metadata": {
    "colab": {
      "provenance": []
    },
    "kernelspec": {
      "name": "python3",
      "display_name": "Python 3"
    },
    "language_info": {
      "name": "python"
    }
  },
  "cells": [
    {
      "cell_type": "code",
      "execution_count": 1,
      "metadata": {
        "colab": {
          "base_uri": "https://localhost:8080/"
        },
        "id": "tv-qtrh6ihNY",
        "outputId": "32f90a79-f570-44b0-da6e-0c3a98fce218"
      },
      "outputs": [
        {
          "output_type": "stream",
          "name": "stdout",
          "text": [
            "     Outlook Temperature Humidity    Wind PlayTennis Predicted\n",
            "0      Sunny         Hot     High    Weak         No        No\n",
            "1      Sunny         Hot     High  Strong         No        No\n",
            "2   Overcast         Hot     High    Weak        Yes       Yes\n",
            "3       Rain        Mild     High    Weak        Yes       Yes\n",
            "4       Rain        Cool   Normal    Weak        Yes       Yes\n",
            "5       Rain        Cool   Normal  Strong         No       Yes\n",
            "6   Overcast        Cool   Normal  Strong        Yes       Yes\n",
            "7      Sunny        Mild     High    Weak         No        No\n",
            "8      Sunny        Cool   Normal    Weak        Yes       Yes\n",
            "9       Rain        Mild   Normal    Weak        Yes       Yes\n",
            "10     Sunny        Mild   Normal  Strong        Yes       Yes\n",
            "11  Overcast        Mild     High  Strong        Yes       Yes\n",
            "12  Overcast         Hot   Normal    Weak        Yes       Yes\n",
            "13      Rain        Mild     High  Strong         No        No\n"
          ]
        }
      ],
      "source": [
        "import pandas as pd\n",
        "import numpy as np\n",
        "from collections import defaultdict\n",
        "\n",
        "class NaiveBayes:\n",
        "    def __init__(self):\n",
        "        self.prior = {}\n",
        "        self.likelihood = {}\n",
        "        self.classes = None\n",
        "        self.features = None\n",
        "\n",
        "    def fit(self, X, y):\n",
        "        self.classes = np.unique(y)\n",
        "        self.features = X.columns\n",
        "        total_count = len(y)\n",
        "\n",
        "        # Calculate prior probabilities P(class)\n",
        "        self.prior = {cls: count / total_count for cls, count in zip(*np.unique(y, return_counts=True))}\n",
        "\n",
        "        # Calculate likelihood P(feature=value | class)\n",
        "        self.likelihood = {cls: {} for cls in self.classes}\n",
        "        for cls in self.classes:\n",
        "            X_cls = X[y == cls]\n",
        "            for feature in self.features:\n",
        "                feature_counts = X_cls[feature].value_counts().to_dict()\n",
        "                total_feature_count = len(X_cls)\n",
        "                self.likelihood[cls][feature] = defaultdict(lambda: 1e-6)  # Laplace smoothing\n",
        "                for feature_val, count in feature_counts.items():\n",
        "                    self.likelihood[cls][feature][feature_val] = count / total_feature_count\n",
        "\n",
        "    def predict(self, X):\n",
        "        predictions = []\n",
        "        for _, row in X.iterrows():\n",
        "            class_probs = {}\n",
        "            for cls in self.classes:\n",
        "                # Start with the prior probability\n",
        "                class_probs[cls] = np.log(self.prior[cls])\n",
        "                for feature in self.features:\n",
        "                    feature_val = row[feature]\n",
        "                    # Add the log likelihood\n",
        "                    class_probs[cls] += np.log(self.likelihood[cls][feature].get(feature_val, 1e-6))\n",
        "            # Select the class with the highest probability\n",
        "            predicted_class = max(class_probs, key=class_probs.get)\n",
        "            predictions.append(predicted_class)\n",
        "        return predictions\n",
        "\n",
        "# Sample dataset\n",
        "data = {\n",
        "    'Outlook': ['Sunny', 'Sunny', 'Overcast', 'Rain', 'Rain', 'Rain',\n",
        "                'Overcast', 'Sunny', 'Sunny', 'Rain', 'Sunny',\n",
        "                'Overcast', 'Overcast', 'Rain'],\n",
        "    'Temperature': ['Hot', 'Hot', 'Hot', 'Mild', 'Cool', 'Cool',\n",
        "                    'Cool', 'Mild', 'Cool', 'Mild', 'Mild',\n",
        "                    'Mild', 'Hot', 'Mild'],\n",
        "    'Humidity': ['High', 'High', 'High', 'High', 'Normal', 'Normal',\n",
        "                'Normal', 'High', 'Normal', 'Normal', 'Normal',\n",
        "                'High', 'Normal', 'High'],\n",
        "    'Wind': ['Weak', 'Strong', 'Weak', 'Weak', 'Weak', 'Strong',\n",
        "             'Strong', 'Weak', 'Weak', 'Weak', 'Strong',\n",
        "             'Strong', 'Weak', 'Strong'],\n",
        "    'PlayTennis': ['No', 'No', 'Yes', 'Yes', 'Yes', 'No',\n",
        "                  'Yes', 'No', 'Yes', 'Yes', 'Yes',\n",
        "                  'Yes', 'Yes', 'No']\n",
        "}\n",
        "\n",
        "df = pd.DataFrame(data)\n",
        "\n",
        "# Features and target\n",
        "X = df[['Outlook', 'Temperature', 'Humidity', 'Wind']]\n",
        "y = df['PlayTennis']\n",
        "\n",
        "# Initialize the classifier\n",
        "nb = NaiveBayes()\n",
        "\n",
        "# Fit the model\n",
        "nb.fit(X, y)\n",
        "\n",
        "# Predict on the training data\n",
        "predictions = nb.predict(X)\n",
        "\n",
        "# Display the results\n",
        "df['Predicted'] = predictions\n",
        "print(df)\n"
      ]
    }
  ]
}