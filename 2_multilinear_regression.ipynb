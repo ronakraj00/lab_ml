{
  "nbformat": 4,
  "nbformat_minor": 0,
  "metadata": {
    "colab": {
      "provenance": []
    },
    "kernelspec": {
      "name": "python3",
      "display_name": "Python 3"
    },
    "language_info": {
      "name": "python"
    }
  },
  "cells": [
    {
      "cell_type": "code",
      "source": [
        "import numpy as np\n",
        "import pandas as pd\n",
        "\n",
        "# Example data (with two features: YearsExperience, EducationYears vs Salary)\n",
        "data = {'YearsExperience': [1.1, 2.0, 3.2, 4.0, 5.0, 6.8, 7.4, 8.5],\n",
        "        'EducationYears': [16, 17, 18, 19, 20, 21, 22, 23],\n",
        "        'Salary': [39343, 46205, 56957, 61111, 67938, 91738, 98273, 113812]}\n",
        "\n",
        "# Convert to DataFrame\n",
        "df = pd.DataFrame(data)\n",
        "\n",
        "# Step 1: Create the X matrix (with intercept) and y vector\n",
        "X = np.c_[np.ones(df.shape[0]), df[['YearsExperience', 'EducationYears']]]  # Adding a column of ones for intercept\n",
        "y = df['Salary']\n",
        "\n",
        "# Step 2: Calculate the coefficients using the normal equation\n",
        "# Coefficients (theta) = (X^T X)^(-1) X^T y\n",
        "coefficients = np.linalg.inv(X.T.dot(X)).dot(X.T).dot(y)\n",
        "\n",
        "# Step 3: Extract the intercept (b) and slopes (m1, m2)\n",
        "intercept = coefficients[0]\n",
        "slopes = coefficients[1:]\n",
        "\n",
        "# Step 4: Make predictions using the model\n",
        "predicted_salary = X.dot(coefficients)\n",
        "\n",
        "# Step 5: Calculate Mean Squared Error (MSE)\n",
        "mean_squared_error = np.mean((y - predicted_salary) ** 2)\n",
        "\n",
        "# Output the results\n",
        "print(f\"Intercept: {intercept}, Slopes (m1, m2): {slopes}\")\n",
        "print(f\"Mean Squared Error: {mean_squared_error}\")\n"
      ],
      "metadata": {
        "id": "6YQy9Z7RadlL",
        "outputId": "3cc05cbd-be2f-4a2c-dfd1-c651328064db",
        "colab": {
          "base_uri": "https://localhost:8080/"
        }
      },
      "execution_count": null,
      "outputs": [
        {
          "output_type": "stream",
          "name": "stdout",
          "text": [
            "Intercept: 152019.29166645953, Slopes (m1, m2): [17648.33333332 -8406.49999999]\n",
            "Mean Squared Error: 8829710.151041616\n"
          ]
        }
      ]
    }
  ]
}