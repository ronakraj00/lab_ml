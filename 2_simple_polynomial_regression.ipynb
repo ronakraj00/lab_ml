{
  "nbformat": 4,
  "nbformat_minor": 0,
  "metadata": {
    "colab": {
      "provenance": []
    },
    "kernelspec": {
      "name": "python3",
      "display_name": "Python 3"
    },
    "language_info": {
      "name": "python"
    }
  },
  "cells": [
    {
      "cell_type": "code",
      "source": [
        "import numpy as np\n",
        "import pandas as pd\n",
        "\n",
        "# Example data (YearsExperience vs Salary)\n",
        "data = {'YearsExperience': [1.1, 2.0, 3.2, 4.0, 5.0, 6.8, 7.4, 8.5],\n",
        "        'Salary': [39343, 46205, 56957, 61111, 67938, 91738, 98273, 113812]}\n",
        "\n",
        "# Convert to DataFrame\n",
        "df = pd.DataFrame(data)\n",
        "\n",
        "# Step 1: Create polynomial features (degree = 2)\n",
        "df['YearsExperience^2'] = df['YearsExperience'] ** 2  # Squared term\n",
        "\n",
        "# Step 2: Create the X matrix (with intercept and polynomial features)\n",
        "X = np.c_[np.ones(df.shape[0]), df[['YearsExperience', 'YearsExperience^2']]]\n",
        "y = df['Salary']\n",
        "\n",
        "# Step 3: Calculate the coefficients using the normal equation\n",
        "coefficients = np.linalg.inv(X.T.dot(X)).dot(X.T).dot(y)\n",
        "\n",
        "# Step 4: Extract the intercept and polynomial coefficients\n",
        "intercept = coefficients[0]\n",
        "coefficients_polynomial = coefficients[1:]\n",
        "\n",
        "# Step 5: Make predictions using the model\n",
        "predicted_salary = X.dot(coefficients)\n",
        "\n",
        "# Step 6: Calculate Mean Squared Error (MSE)\n",
        "mean_squared_error = np.mean((y - predicted_salary) ** 2)\n",
        "\n",
        "# Output the results\n",
        "print(f\"Intercept: {intercept}, Polynomial Coefficients: {coefficients_polynomial}\")\n",
        "print(f\"Mean Squared Error: {mean_squared_error}\")\n"
      ],
      "metadata": {
        "colab": {
          "base_uri": "https://localhost:8080/"
        },
        "id": "qMzuJXFua76S",
        "outputId": "c5494457-a205-4c7e-d204-38a15b0052b6"
      },
      "execution_count": 1,
      "outputs": [
        {
          "output_type": "stream",
          "name": "stdout",
          "text": [
            "Intercept: 35235.19157924342, Polynomial Coefficients: [4040.46461551  609.30697421]\n",
            "Mean Squared Error: 2020677.1904097947\n"
          ]
        }
      ]
    }
  ]
}